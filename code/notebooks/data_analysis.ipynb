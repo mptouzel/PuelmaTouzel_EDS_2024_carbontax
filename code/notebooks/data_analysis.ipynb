{
 "cells": [
  {
   "cell_type": "code",
   "execution_count": 2,
   "metadata": {},
   "outputs": [
    {
     "name": "stdout",
     "output_type": "stream",
     "text": [
      "/home/mptouzel/Dropbox/scripts/Projects/topicmod/code\n"
     ]
    },
    {
     "ename": "ModuleNotFoundError",
     "evalue": "No module named 'scipy'",
     "output_type": "error",
     "traceback": [
      "\u001b[0;31m---------------------------------------------------------------------------\u001b[0m",
      "\u001b[0;31mModuleNotFoundError\u001b[0m                       Traceback (most recent call last)",
      "File \u001b[0;32m~/Dropbox/scripts/Projects/topicmod/code/lib/utils/ipynb_setup.py:4\u001b[0m, in \u001b[0;36m<module>\u001b[0;34m\u001b[0m\n\u001b[1;32m      2\u001b[0m \u001b[38;5;28;01mimport\u001b[39;00m \u001b[38;5;21;01mnumpy\u001b[39;00m \u001b[38;5;28;01mas\u001b[39;00m \u001b[38;5;21;01mnp\u001b[39;00m\n\u001b[1;32m      3\u001b[0m \u001b[38;5;28;01mimport\u001b[39;00m \u001b[38;5;21;01mpandas\u001b[39;00m \u001b[38;5;28;01mas\u001b[39;00m \u001b[38;5;21;01mpd\u001b[39;00m\n\u001b[0;32m----> 4\u001b[0m \u001b[38;5;28;01mfrom\u001b[39;00m \u001b[38;5;21;01mscipy\u001b[39;00m\u001b[38;5;21;01m.\u001b[39;00m\u001b[38;5;21;01minterpolate\u001b[39;00m \u001b[38;5;28;01mimport\u001b[39;00m griddata\n\u001b[1;32m      5\u001b[0m \u001b[38;5;28;01mfrom\u001b[39;00m \u001b[38;5;21;01mitertools\u001b[39;00m \u001b[38;5;28;01mimport\u001b[39;00m product\n\u001b[1;32m      6\u001b[0m \u001b[38;5;28;01mfrom\u001b[39;00m \u001b[38;5;21;01mscipy\u001b[39;00m \u001b[38;5;28;01mimport\u001b[39;00m special\n",
      "\u001b[0;31mModuleNotFoundError\u001b[0m: No module named 'scipy'"
     ]
    },
    {
     "name": "stdout",
     "output_type": "stream",
     "text": [
      "The autoreload extension is already loaded. To reload it, use:\n",
      "  %reload_ext autoreload\n"
     ]
    }
   ],
   "source": [
    "#load libraries and setup file\n",
    "import sys,os\n",
    "root_path = os.path.abspath(os.path.join('..'))\n",
    "print(root_path)\n",
    "if root_path not in sys.path:\n",
    "    sys.path.append(root_path)\n",
    "%run -i \"../lib/utils/ipynb_setup.py\"\n",
    "%load_ext autoreload\n",
    "%autoreload 2\n",
    "%matplotlib inline"
   ]
  },
  {
   "cell_type": "code",
   "execution_count": 21,
   "metadata": {},
   "outputs": [],
   "source": [
    "#plotting\n",
    "import matplotlib.pyplot as pl\n",
    "import seaborn as sns\n",
    "sns.set_style(\"ticks\", {'axes.grid' : True})\n",
    "# pl.rc(\"figure\", facecolor=\"white\",figsize = (8,8))\n",
    "pl.rc(\"figure\", facecolor=\"gray\",figsize = (8,8))\n",
    "pl.rc('text', usetex=True)\n",
    "pl.rc('text.latex', preamble=[r'\\usepackage{amsmath}'])\n",
    "pl.rc('lines',markeredgewidth = 2)\n",
    "pl.rc('font',size = 12)"
   ]
  },
  {
   "cell_type": "code",
   "execution_count": 22,
   "metadata": {},
   "outputs": [],
   "source": [
    "fig_dir='../../output/figures/'\n",
    "data_dir='../../output/data/'"
   ]
  },
  {
   "cell_type": "markdown",
   "metadata": {},
   "source": [
    "import data"
   ]
  },
  {
   "cell_type": "code",
   "execution_count": 23,
   "metadata": {
    "scrolled": true
   },
   "outputs": [
    {
     "name": "stdout",
     "output_type": "stream",
     "text": [
      "['responseid' 'status' 'intcode' 'interview_start' 'interview_end'\n",
      " 'temptime' 'lang' 'prov' 'd1' 'd3' 'age' 'qmip' 'qmip_01' 'qmip_02'\n",
      " 'qmip_03' 'qmip_04' 'qmip_05' 'qmip_06' 'qmip_07' 'qmip_08' 'qmip_09'\n",
      " 'qmip_10' 'qmip_11' 'qmip_12' 'qmip_13' 'qmip_14' 'qmip_15' 'qmip_16'\n",
      " 'qmip_17' 'qmip_18' 'qmip_19' 'qmip_20' 'qmip_21' 'qmip_22' 'qmip_96'\n",
      " 'qmip_98' 'p1' 'p2_1' 'p2_2' 'p2_3' 'p2_4' 'p2_5' 'p2_6' 'p2_7' 'p2_8'\n",
      " 'p3_1' 'p3_2' 'p3_3' 'p3_4' 'p3_5' 'p4a_1' 'p4a_2' 'p4a_3' 'p4a_4'\n",
      " 'p4a_5' 'p4b_6' 'p4b_7' 'p4b_8' 'p4b_9' 'p4b_10' 'p4b_11' 'pk1' 'pk2'\n",
      " 'e2' 'e5' 'e6' 'e7' 'e8' 'a1' 'a2' 'a3' 'a4' 'a5' 'po1' 'po2' 'po3a'\n",
      " 'po3a_01' 'po3a_02' 'po3a_03' 'po3a_04' 'po3a_05' 'po3a_06' 'po3a_07'\n",
      " 'po3a_08' 'po3a_09' 'po3a_10' 'po3a_11' 'po3a_12' 'po3a_13' 'po3a_14'\n",
      " 'po3a_15' 'po3a_16' 'po3a_17' 'po3a_18' 'po3a_19' 'po3a_96' 'po3a_97'\n",
      " 'po3a_98' 'po3b' 'po3b_01' 'po3b_02' 'po3b_03' 'po3b_04' 'po3b_05'\n",
      " 'po3b_06' 'po3b_07' 'po3b_08' 'po3b_09' 'po3b_10' 'po3b_11' 'po3b_12'\n",
      " 'po3b_13' 'po3b_14' 'po3b_15' 'po3b_16' 'po3b_17' 'po3b_18' 'po3b_96'\n",
      " 'po3b_97' 'po3b_98' 'po3c' 'po3c_01' 'po3c_02' 'po3c_03' 'po3c_04'\n",
      " 'po3c_05' 'po3c_06' 'po3c_07' 'po3c_08' 'po3c_09' 'po3c_10' 'po3c_11'\n",
      " 'po3c_12' 'po3c_13' 'po3c_14' 'po3c_15' 'po3c_16' 'po3c_17' 'po3c_18'\n",
      " 'po3c_96' 'po3c_98' 'po7a' 'po7b' 'po9' 'po10_1' 'po10_2' 'po10_3'\n",
      " 'po10_4' 'po10_5' 'po10_6' 'po10_7' 'po10_8' 'po11_1' 'po11_2' 'po11_3'\n",
      " 'po11_4' 'po12_1' 'po12_2' 'po12_3' 'po12_4' 'po13_1' 'po13_2' 'po13_3'\n",
      " 'po13_4' 'po18' 'po22_96_other' 'po22_1' 'po22_2' 'po22_3' 'po22_4'\n",
      " 'po22_5' 'po22_96' 'po22_98' 'po23_96_other' 'po23_1' 'po23_2' 'po23_3'\n",
      " 'po23_4' 'po23_5' 'po23_6' 'po23_96' 'po23_97' 'po23_98' 'p24' 'p25'\n",
      " 'b1_1' 'b1_2' 'b1_3' 'b1_4' 'b1_5' 'b1_96' 'b1_97' 'b1_96_other' 'b2_1'\n",
      " 'b2_2' 'b2_3' 'b2_4' 'b2_5' 'b2_96' 'b2_97' 'b2_96_other' 't1' 't2' 't2b'\n",
      " 't3' 't4' 't5' 'v1' 'v2_1' 'v2_2' 'v2_3' 'v2_4' 'v2_5' 'v2_6' 'v2_99'\n",
      " 'v3' 'v4_1' 'v4_2' 'v4_none' 'v5_1' 'v5_2' 'v5_none' 'd2_96_other' 'd2_1'\n",
      " 'd2_2' 'd2_96' 'd4' 'd5' 'd6' 'd7' 'd8' 'd10' 'd11' 'd12' 'd13' 'd14'\n",
      " 'immig' 'kids' 'Weight']\n"
     ]
    },
    {
     "data": {
      "text/html": [
       "<div>\n",
       "<style scoped>\n",
       "    .dataframe tbody tr th:only-of-type {\n",
       "        vertical-align: middle;\n",
       "    }\n",
       "\n",
       "    .dataframe tbody tr th {\n",
       "        vertical-align: top;\n",
       "    }\n",
       "\n",
       "    .dataframe thead th {\n",
       "        text-align: right;\n",
       "    }\n",
       "</style>\n",
       "<table border=\"1\" class=\"dataframe\">\n",
       "  <thead>\n",
       "    <tr style=\"text-align: right;\">\n",
       "      <th></th>\n",
       "      <th>responseid</th>\n",
       "      <th>status</th>\n",
       "      <th>intcode</th>\n",
       "      <th>interview_start</th>\n",
       "      <th>interview_end</th>\n",
       "      <th>temptime</th>\n",
       "      <th>lang</th>\n",
       "      <th>prov</th>\n",
       "      <th>d1</th>\n",
       "      <th>d3</th>\n",
       "      <th>...</th>\n",
       "      <th>d7</th>\n",
       "      <th>d8</th>\n",
       "      <th>d10</th>\n",
       "      <th>d11</th>\n",
       "      <th>d12</th>\n",
       "      <th>d13</th>\n",
       "      <th>d14</th>\n",
       "      <th>immig</th>\n",
       "      <th>kids</th>\n",
       "      <th>Weight</th>\n",
       "    </tr>\n",
       "  </thead>\n",
       "  <tbody>\n",
       "    <tr>\n",
       "      <th>0</th>\n",
       "      <td>27</td>\n",
       "      <td>complete</td>\n",
       "      <td>C1</td>\n",
       "      <td>2019-02-22 11:27:04</td>\n",
       "      <td>2019-02-22 11:54:52</td>\n",
       "      <td>1665</td>\n",
       "      <td>EN</td>\n",
       "      <td>ON</td>\n",
       "      <td>Male</td>\n",
       "      <td>63</td>\n",
       "      <td>...</td>\n",
       "      <td>0</td>\n",
       "      <td>2</td>\n",
       "      <td>Within a suburb, adjacent to a large city</td>\n",
       "      <td>8</td>\n",
       "      <td>College / CEGEP graduate</td>\n",
       "      <td>This doesn't apply to me</td>\n",
       "      <td>$40,000-$59,999</td>\n",
       "      <td>No, Born in Canada</td>\n",
       "      <td>No</td>\n",
       "      <td>2.389879</td>\n",
       "    </tr>\n",
       "    <tr>\n",
       "      <th>1</th>\n",
       "      <td>28</td>\n",
       "      <td>complete</td>\n",
       "      <td>C1</td>\n",
       "      <td>2019-02-22 11:27:07</td>\n",
       "      <td>2019-02-22 11:35:38</td>\n",
       "      <td>508</td>\n",
       "      <td>EN</td>\n",
       "      <td>ON</td>\n",
       "      <td>Male</td>\n",
       "      <td>31</td>\n",
       "      <td>...</td>\n",
       "      <td>2</td>\n",
       "      <td>2</td>\n",
       "      <td>Within a suburb, adjacent to a large city</td>\n",
       "      <td>8</td>\n",
       "      <td>Post-graduate university degree</td>\n",
       "      <td>Drive alone</td>\n",
       "      <td>$200,000 or more</td>\n",
       "      <td>No, Born in Canada</td>\n",
       "      <td>Yes</td>\n",
       "      <td>1.722694</td>\n",
       "    </tr>\n",
       "    <tr>\n",
       "      <th>2</th>\n",
       "      <td>29</td>\n",
       "      <td>complete</td>\n",
       "      <td>C1</td>\n",
       "      <td>2019-02-22 11:30:30</td>\n",
       "      <td>2019-02-22 11:44:23</td>\n",
       "      <td>831</td>\n",
       "      <td>EN</td>\n",
       "      <td>SK</td>\n",
       "      <td>Female</td>\n",
       "      <td>49</td>\n",
       "      <td>...</td>\n",
       "      <td>1</td>\n",
       "      <td>1</td>\n",
       "      <td>Within a large city</td>\n",
       "      <td>Centre5</td>\n",
       "      <td>College / CEGEP graduate</td>\n",
       "      <td>Drive alone</td>\n",
       "      <td>$40,000-$59,999</td>\n",
       "      <td>No, Born in Canada</td>\n",
       "      <td>Yes</td>\n",
       "      <td>0.166414</td>\n",
       "    </tr>\n",
       "    <tr>\n",
       "      <th>3</th>\n",
       "      <td>30</td>\n",
       "      <td>complete</td>\n",
       "      <td>C1</td>\n",
       "      <td>2019-02-22 11:31:25</td>\n",
       "      <td>2019-02-22 11:37:52</td>\n",
       "      <td>385</td>\n",
       "      <td>EN</td>\n",
       "      <td>AB</td>\n",
       "      <td>Male</td>\n",
       "      <td>28</td>\n",
       "      <td>...</td>\n",
       "      <td>0</td>\n",
       "      <td>1</td>\n",
       "      <td>Within a large city</td>\n",
       "      <td>Centre5</td>\n",
       "      <td>Less than college/some CEGEP</td>\n",
       "      <td>Transit</td>\n",
       "      <td>Under $20,000</td>\n",
       "      <td>Yes, Not born in Canada</td>\n",
       "      <td>No</td>\n",
       "      <td>1.014922</td>\n",
       "    </tr>\n",
       "    <tr>\n",
       "      <th>4</th>\n",
       "      <td>31</td>\n",
       "      <td>complete</td>\n",
       "      <td>C1</td>\n",
       "      <td>2019-02-22 11:32:31</td>\n",
       "      <td>2019-02-22 11:49:40</td>\n",
       "      <td>1027</td>\n",
       "      <td>EN</td>\n",
       "      <td>AB</td>\n",
       "      <td>Male</td>\n",
       "      <td>31</td>\n",
       "      <td>...</td>\n",
       "      <td>0</td>\n",
       "      <td>1</td>\n",
       "      <td>In a small town</td>\n",
       "      <td>7</td>\n",
       "      <td>Undergraduate university degree</td>\n",
       "      <td>Drive alone</td>\n",
       "      <td>$40,000-$59,999</td>\n",
       "      <td>No, Born in Canada</td>\n",
       "      <td>No</td>\n",
       "      <td>0.671907</td>\n",
       "    </tr>\n",
       "  </tbody>\n",
       "</table>\n",
       "<p>5 rows × 239 columns</p>\n",
       "</div>"
      ],
      "text/plain": [
       "   responseid    status intcode     interview_start       interview_end  \\\n",
       "0          27  complete      C1 2019-02-22 11:27:04 2019-02-22 11:54:52   \n",
       "1          28  complete      C1 2019-02-22 11:27:07 2019-02-22 11:35:38   \n",
       "2          29  complete      C1 2019-02-22 11:30:30 2019-02-22 11:44:23   \n",
       "3          30  complete      C1 2019-02-22 11:31:25 2019-02-22 11:37:52   \n",
       "4          31  complete      C1 2019-02-22 11:32:31 2019-02-22 11:49:40   \n",
       "\n",
       "   temptime lang prov      d1  d3  ... d7 d8  \\\n",
       "0      1665   EN   ON    Male  63  ...  0  2   \n",
       "1       508   EN   ON    Male  31  ...  2  2   \n",
       "2       831   EN   SK  Female  49  ...  1  1   \n",
       "3       385   EN   AB    Male  28  ...  0  1   \n",
       "4      1027   EN   AB    Male  31  ...  0  1   \n",
       "\n",
       "                                         d10      d11  \\\n",
       "0  Within a suburb, adjacent to a large city        8   \n",
       "1  Within a suburb, adjacent to a large city        8   \n",
       "2                        Within a large city  Centre5   \n",
       "3                        Within a large city  Centre5   \n",
       "4                            In a small town        7   \n",
       "\n",
       "                               d12                       d13  \\\n",
       "0         College / CEGEP graduate  This doesn't apply to me   \n",
       "1  Post-graduate university degree               Drive alone   \n",
       "2         College / CEGEP graduate               Drive alone   \n",
       "3     Less than college/some CEGEP                   Transit   \n",
       "4  Undergraduate university degree               Drive alone   \n",
       "\n",
       "                d14                    immig kids    Weight  \n",
       "0   $40,000-$59,999       No, Born in Canada   No  2.389879  \n",
       "1  $200,000 or more       No, Born in Canada  Yes  1.722694  \n",
       "2   $40,000-$59,999       No, Born in Canada  Yes  0.166414  \n",
       "3     Under $20,000  Yes, Not born in Canada   No  1.014922  \n",
       "4   $40,000-$59,999       No, Born in Canada   No  0.671907  \n",
       "\n",
       "[5 rows x 239 columns]"
      ]
     },
     "execution_count": 23,
     "metadata": {},
     "output_type": "execute_result"
    }
   ],
   "source": [
    "df=pd.read_stata('../../data/carbon_tax/CCOP_wave1.dta')\n",
    "print(df.columns.values)\n",
    "df.head()"
   ]
  },
  {
   "cell_type": "markdown",
   "metadata": {},
   "source": [
    "# example analysis on po3a "
   ]
  },
  {
   "cell_type": "markdown",
   "metadata": {},
   "source": [
    "Q: \"In a brief sentance or two, please explain the main reason why you support putting a price or tax on fossil fiels to reduce cabon emissions in Canada.\""
   ]
  },
  {
   "cell_type": "code",
   "execution_count": 24,
   "metadata": {},
   "outputs": [
    {
     "data": {
      "text/plain": [
       "0.595532749773619"
      ]
     },
     "execution_count": 24,
     "metadata": {},
     "output_type": "execute_result"
    }
   ],
   "source": [
    "response_rate=(df.po3a=='').sum()/len(df)\n",
    "tdf=df[df.po3a!=''].copy()\n",
    "response_rate"
   ]
  },
  {
   "cell_type": "markdown",
   "metadata": {},
   "source": [
    "### translate responses"
   ]
  },
  {
   "cell_type": "markdown",
   "metadata": {},
   "source": [
    " translate as a whole increased reliability from added context around words"
   ]
  },
  {
   "cell_type": "code",
   "execution_count": 25,
   "metadata": {},
   "outputs": [
    {
     "data": {
      "text/plain": [
       "293"
      ]
     },
     "execution_count": 25,
     "metadata": {},
     "output_type": "execute_result"
    }
   ],
   "source": [
    "french_responses=tdf[tdf.lang=='FR'].po3a.copy()\n",
    "len(french_responses)"
   ]
  },
  {
   "cell_type": "code",
   "execution_count": 26,
   "metadata": {},
   "outputs": [],
   "source": [
    "# from googletrans import Translator, constants #pip install googletrans==4.0.0-rc1\n",
    "# translator = Translator()\n",
    "# french_responses=tdf[tdf.lang=='FR'].po3a\n",
    "# st=time.time()\n",
    "# for ind,french_repsonse in french_responses.iteritems():\n",
    "# #     print(ind)\n",
    "#     tdf.loc[ind,'po3a']=translator.translate(french_repsonse,src='fr',dest='en').text\n",
    "# print(time.time()-st)"
   ]
  },
  {
   "cell_type": "markdown",
   "metadata": {},
   "source": [
    "the code in the above cell fails near the end of the responses due to a connection timeout to Googletranslate. IN any case, translations will still need manual correction (best to write to file with index, copy the file and make corrections, then load back changed file and assign). For now, we leave them out. Brute force alternative: Could just copy into google translate?"
   ]
  },
  {
   "cell_type": "code",
   "execution_count": 27,
   "metadata": {},
   "outputs": [],
   "source": [
    "tdf=tdf.drop(tdf[tdf.lang=='FR'].index)"
   ]
  },
  {
   "cell_type": "markdown",
   "metadata": {},
   "source": [
    "### Start cleaning"
   ]
  },
  {
   "cell_type": "code",
   "execution_count": 45,
   "metadata": {},
   "outputs": [],
   "source": [
    "from lib.lib import remove_punc,remove_stopwords,get_wordfixlist,customfix,build_word_dictionary,reduce_to_stems,clean_corpus"
   ]
  },
  {
   "cell_type": "code",
   "execution_count": 29,
   "metadata": {},
   "outputs": [],
   "source": [
    "tdf['po3aclean']=tdf.po3a.apply(lambda x: x.split())"
   ]
  },
  {
   "cell_type": "markdown",
   "metadata": {},
   "source": [
    "remove punctuations/capitalization"
   ]
  },
  {
   "cell_type": "code",
   "execution_count": 30,
   "metadata": {
    "scrolled": true
   },
   "outputs": [],
   "source": [
    "tdf.po3aclean=tdf.po3aclean.apply(remove_punc)"
   ]
  },
  {
   "cell_type": "markdown",
   "metadata": {},
   "source": [
    "remove stop words"
   ]
  },
  {
   "cell_type": "code",
   "execution_count": 31,
   "metadata": {},
   "outputs": [],
   "source": [
    "tdf.po3aclean=tdf.po3aclean.apply(remove_stopwords)"
   ]
  },
  {
   "cell_type": "markdown",
   "metadata": {},
   "source": [
    "load file of custom fixes of remaining non-words"
   ]
  },
  {
   "cell_type": "code",
   "execution_count": 32,
   "metadata": {},
   "outputs": [],
   "source": [
    "wordfixfile='../../data/carbon_tax/CCOP_wave1_nonwords.csv'\n",
    "wordfixes_df=get_wordfixlist(wordfixfile)\n",
    "part_customfix=partial(customfix,wordfixes_df=wordfixes_df)\n",
    "tdf.po3aclean=tdf.po3aclean.apply(part_customfix)"
   ]
  },
  {
   "cell_type": "markdown",
   "metadata": {},
   "source": [
    "another round of stopword deletion"
   ]
  },
  {
   "cell_type": "code",
   "execution_count": 33,
   "metadata": {},
   "outputs": [],
   "source": [
    "tdf.po3aclean=tdf.po3aclean.apply(remove_stopwords)\n",
    "tdf=tdf[tdf.po3aclean!='']"
   ]
  },
  {
   "cell_type": "markdown",
   "metadata": {},
   "source": [
    "add detected language as a way to catch mispelling"
   ]
  },
  {
   "cell_type": "code",
   "execution_count": 34,
   "metadata": {},
   "outputs": [],
   "source": [
    "# det_obj=translator.detect('hello')\n",
    "# print(det_obj.confidence) #doesn't work. boo!\n",
    "# print(det_obj.lang)"
   ]
  },
  {
   "cell_type": "code",
   "execution_count": 35,
   "metadata": {
    "scrolled": false
   },
   "outputs": [],
   "source": [
    "# langarr=np.empty(len(dictionary))\n",
    "# tmp= dictionary.word\n",
    "# for ind,word in tmp.iteritems():\n",
    "#     if ind%50==0:\n",
    "#         print(ind)\n",
    "# #     dictionary.loc[ind,'lang']=translator.detect(word).lang\n",
    "#     print(translator.detect(word).lang)"
   ]
  },
  {
   "cell_type": "markdown",
   "metadata": {},
   "source": [
    "## build dictionary"
   ]
  },
  {
   "cell_type": "code",
   "execution_count": 36,
   "metadata": {},
   "outputs": [
    {
     "data": {
      "text/plain": [
       "1619"
      ]
     },
     "execution_count": 36,
     "metadata": {},
     "output_type": "execute_result"
    }
   ],
   "source": [
    "dictionary=build_word_dictionary(tdf.po3aclean)\n",
    "# dictionary['predlang']=dictionary.word.apply(lambda x: translator.detect(x).lang)\n",
    "len(dictionary)"
   ]
  },
  {
   "cell_type": "code",
   "execution_count": 37,
   "metadata": {
    "scrolled": false
   },
   "outputs": [],
   "source": [
    "[x[0] for x in dictionary.values[-500:]];"
   ]
  },
  {
   "cell_type": "markdown",
   "metadata": {},
   "source": [
    "keep just the stems"
   ]
  },
  {
   "cell_type": "code",
   "execution_count": 38,
   "metadata": {},
   "outputs": [],
   "source": [
    "tdf['po3aclean_stems']=tdf.po3aclean.apply(reduce_to_stems)"
   ]
  },
  {
   "cell_type": "code",
   "execution_count": 39,
   "metadata": {},
   "outputs": [
    {
     "data": {
      "text/plain": [
       "1192"
      ]
     },
     "execution_count": 39,
     "metadata": {},
     "output_type": "execute_result"
    }
   ],
   "source": [
    "dictionary=build_word_dictionary(tdf.po3aclean_stems)\n",
    "len(dictionary)"
   ]
  },
  {
   "cell_type": "code",
   "execution_count": 40,
   "metadata": {
    "scrolled": true
   },
   "outputs": [],
   "source": [
    "[x[0] for x in dictionary.values];"
   ]
  },
  {
   "cell_type": "code",
   "execution_count": 41,
   "metadata": {
    "scrolled": true
   },
   "outputs": [],
   "source": [
    "tdf['wordvec']=tdf.po3aclean_stems.apply(lambda x: [dictionary[dictionary.word==word].index.values[0] for word in x])"
   ]
  },
  {
   "cell_type": "markdown",
   "metadata": {},
   "source": [
    "## Analyze"
   ]
  },
  {
   "cell_type": "code",
   "execution_count": 42,
   "metadata": {
    "scrolled": false
   },
   "outputs": [
    {
     "data": {
      "text/html": [
       "<div>\n",
       "<style scoped>\n",
       "    .dataframe tbody tr th:only-of-type {\n",
       "        vertical-align: middle;\n",
       "    }\n",
       "\n",
       "    .dataframe tbody tr th {\n",
       "        vertical-align: top;\n",
       "    }\n",
       "\n",
       "    .dataframe thead th {\n",
       "        text-align: right;\n",
       "    }\n",
       "</style>\n",
       "<table border=\"1\" class=\"dataframe\">\n",
       "  <thead>\n",
       "    <tr style=\"text-align: right;\">\n",
       "      <th></th>\n",
       "      <th>wordindex</th>\n",
       "      <th>word_count</th>\n",
       "    </tr>\n",
       "  </thead>\n",
       "  <tbody>\n",
       "    <tr>\n",
       "      <th>0</th>\n",
       "      <td>766</td>\n",
       "      <td>244</td>\n",
       "    </tr>\n",
       "    <tr>\n",
       "      <th>1</th>\n",
       "      <td>1131</td>\n",
       "      <td>242</td>\n",
       "    </tr>\n",
       "    <tr>\n",
       "      <th>2</th>\n",
       "      <td>424</td>\n",
       "      <td>231</td>\n",
       "    </tr>\n",
       "    <tr>\n",
       "      <th>3</th>\n",
       "      <td>1060</td>\n",
       "      <td>184</td>\n",
       "    </tr>\n",
       "    <tr>\n",
       "      <th>4</th>\n",
       "      <td>874</td>\n",
       "      <td>179</td>\n",
       "    </tr>\n",
       "    <tr>\n",
       "      <th>...</th>\n",
       "      <td>...</td>\n",
       "      <td>...</td>\n",
       "    </tr>\n",
       "    <tr>\n",
       "      <th>1187</th>\n",
       "      <td>1147</td>\n",
       "      <td>1</td>\n",
       "    </tr>\n",
       "    <tr>\n",
       "      <th>1188</th>\n",
       "      <td>1163</td>\n",
       "      <td>1</td>\n",
       "    </tr>\n",
       "    <tr>\n",
       "      <th>1189</th>\n",
       "      <td>737</td>\n",
       "      <td>1</td>\n",
       "    </tr>\n",
       "    <tr>\n",
       "      <th>1190</th>\n",
       "      <td>659</td>\n",
       "      <td>1</td>\n",
       "    </tr>\n",
       "    <tr>\n",
       "      <th>1191</th>\n",
       "      <td>1031</td>\n",
       "      <td>1</td>\n",
       "    </tr>\n",
       "  </tbody>\n",
       "</table>\n",
       "<p>1192 rows × 2 columns</p>\n",
       "</div>"
      ],
      "text/plain": [
       "      wordindex  word_count\n",
       "0           766         244\n",
       "1          1131         242\n",
       "2           424         231\n",
       "3          1060         184\n",
       "4           874         179\n",
       "...         ...         ...\n",
       "1187       1147           1\n",
       "1188       1163           1\n",
       "1189        737           1\n",
       "1190        659           1\n",
       "1191       1031           1\n",
       "\n",
       "[1192 rows x 2 columns]"
      ]
     },
     "execution_count": 42,
     "metadata": {},
     "output_type": "execute_result"
    }
   ],
   "source": [
    "word_counts=tdf['wordvec'].apply(pd.Series).unstack().value_counts().sort_values(ascending=False).reset_index()\n",
    "word_counts=word_counts.rename(columns={0:'word_count','index':'wordindex'})\n",
    "word_counts.wordindex=word_counts.wordindex.astype(int)\n",
    "word_counts"
   ]
  },
  {
   "cell_type": "code",
   "execution_count": 62,
   "metadata": {},
   "outputs": [],
   "source": [
    "document_occurence=tdf.wordvec.apply(lambda x: list(set(x))).apply(pd.Series).unstack().value_counts().sort_values(ascending=False).reset_index()\n",
    "document_occurence=document_occurence.rename(columns={0:'word_count','index':'wordindex'})\n",
    "document_occurence.wordindex=document_occurence.wordindex.astype(int)"
   ]
  },
  {
   "cell_type": "code",
   "execution_count": 67,
   "metadata": {
    "scrolled": false
   },
   "outputs": [
    {
     "data": {
      "image/png": "[encoded data removed]",
      "text/plain": [
       "<Figure size 1080x648 with 3 Axes>"
      ]
     },
     "metadata": {},
     "output_type": "display_data"
    }
   ],
   "source": [
    "fig,ax=pl.subplots(3,1,figsize=(15,9))\n",
    "\n",
    "size_counts=tdf['wordvec'].apply(len).value_counts()\n",
    "ax[0].bar(size_counts.index.values,size_counts.values)\n",
    "ax[0].set_ylabel('number of occurences')\n",
    "ax[0].set_xlabel('number of core words in response')\n",
    "\n",
    "ax[1].bar(word_counts.index.values,word_counts.word_count.values)\n",
    "ax[1].set_ylabel('number of occurences')\n",
    "ax[1].set_title('ranked prevalence of core words ('+str(len(dictionary))+' in total) from 0.6*'+str(len(df))+' (-'+str(len(french_responses))+' FR) responses')\n",
    "ax[1].set_xticks(np.arange(51))\n",
    "ax[1].set_xticklabels(list(dictionary.loc[word_counts.wordindex.values,'word'].values),rotation=45)\n",
    "ax[1].set_xlim(-0.5,50.5)\n",
    "\n",
    "ax[2].plot(document_occurence.index.values+1,document_occurence.word_count.values)\n",
    "ax[2].set_ylabel('number of documents')\n",
    "ax[2].set_ylim(1,50)\n",
    "ax[2].set_xlim(1,ax[2].get_xlim()[1])\n",
    "ax[2].set_xlabel('vocabulary words')\n",
    "# ax[2].set_xscale('log')\n",
    "# ax[2].set_yscale('log')\n",
    "# ax[1].set_title('ranked prevalence of core words ('+str(len(dictionary))+' in total) from 0.6*'+str(len(df))+' (-'+str(len(french_responses))+' FR) responses')\n",
    "# ax[1].set_xticks(np.arange(51))\n",
    "# ax[1].set_xticklabels(list(dictionary.loc[word_counts.wordindex.values,'word'].values),rotation=45)\n",
    "# ax[1].set_xlim(-0.5,50.5)\n",
    "\n",
    "fig.tight_layout()\n",
    "# fig.savefig(fig_dir+'word_prevalence.pdf',format='pdf',dpi=300,bbox_inches='tight')"
   ]
  },
  {
   "cell_type": "markdown",
   "metadata": {},
   "source": [
    "Run in one function"
   ]
  },
  {
   "cell_type": "code",
   "execution_count": 50,
   "metadata": {},
   "outputs": [],
   "source": [
    "wordfixfile='../../data/carbon_tax/CCOP_wave1_nonwords.csv'\n",
    "english_responses=df.drop(df[df.lang=='FR'].index)\n",
    "carbon_tax_question='po3a'\n",
    "cdf,dictionary=clean_corpus(english_responses,carbon_tax_question,wordfixfile=wordfixfile)"
   ]
  },
  {
   "cell_type": "code",
   "execution_count": 52,
   "metadata": {},
   "outputs": [
    {
     "name": "stdout",
     "output_type": "stream",
     "text": [
      "1192\n"
     ]
    },
    {
     "data": {
      "text/html": [
       "<div>\n",
       "<style scoped>\n",
       "    .dataframe tbody tr th:only-of-type {\n",
       "        vertical-align: middle;\n",
       "    }\n",
       "\n",
       "    .dataframe tbody tr th {\n",
       "        vertical-align: top;\n",
       "    }\n",
       "\n",
       "    .dataframe thead th {\n",
       "        text-align: right;\n",
       "    }\n",
       "</style>\n",
       "<table border=\"1\" class=\"dataframe\">\n",
       "  <thead>\n",
       "    <tr style=\"text-align: right;\">\n",
       "      <th></th>\n",
       "      <th>word</th>\n",
       "    </tr>\n",
       "  </thead>\n",
       "  <tbody>\n",
       "    <tr>\n",
       "      <th>0</th>\n",
       "      <td>abl</td>\n",
       "    </tr>\n",
       "    <tr>\n",
       "      <th>1</th>\n",
       "      <td>absorb</td>\n",
       "    </tr>\n",
       "    <tr>\n",
       "      <th>2</th>\n",
       "      <td>acceler</td>\n",
       "    </tr>\n",
       "    <tr>\n",
       "      <th>3</th>\n",
       "      <td>accept</td>\n",
       "    </tr>\n",
       "    <tr>\n",
       "      <th>4</th>\n",
       "      <td>access</td>\n",
       "    </tr>\n",
       "  </tbody>\n",
       "</table>\n",
       "</div>"
      ],
      "text/plain": [
       "      word\n",
       "0      abl\n",
       "1   absorb\n",
       "2  acceler\n",
       "3   accept\n",
       "4   access"
      ]
     },
     "execution_count": 52,
     "metadata": {},
     "output_type": "execute_result"
    }
   ],
   "source": [
    "print(len(dictionary))\n",
    "dictionary.head()"
   ]
  },
  {
   "cell_type": "code",
   "execution_count": 53,
   "metadata": {},
   "outputs": [
    {
     "name": "stdout",
     "output_type": "stream",
     "text": [
      "1047\n"
     ]
    },
    {
     "data": {
      "text/html": [
       "<div>\n",
       "<style scoped>\n",
       "    .dataframe tbody tr th:only-of-type {\n",
       "        vertical-align: middle;\n",
       "    }\n",
       "\n",
       "    .dataframe tbody tr th {\n",
       "        vertical-align: top;\n",
       "    }\n",
       "\n",
       "    .dataframe thead th {\n",
       "        text-align: right;\n",
       "    }\n",
       "</style>\n",
       "<table border=\"1\" class=\"dataframe\">\n",
       "  <thead>\n",
       "    <tr style=\"text-align: right;\">\n",
       "      <th></th>\n",
       "      <th>po3a</th>\n",
       "      <th>po3aclean</th>\n",
       "      <th>po3aclean_stems</th>\n",
       "      <th>po3aclean_stems_wordvec</th>\n",
       "    </tr>\n",
       "  </thead>\n",
       "  <tbody>\n",
       "    <tr>\n",
       "      <th>6</th>\n",
       "      <td>It will get people to think about their consum...</td>\n",
       "      <td>[get, people, think, consumption, perhaps, cut...</td>\n",
       "      <td>[get, peopl, think, consumpt, perhap, cut, bac...</td>\n",
       "      <td>[438, 766, 1076, 209, 770, 239, 87, 810, 635, ...</td>\n",
       "    </tr>\n",
       "    <tr>\n",
       "      <th>7</th>\n",
       "      <td>Phasing out the use of fossil fuels is essenti...</td>\n",
       "      <td>[phasing, use, fossil, fuels, essential, save,...</td>\n",
       "      <td>[phase, use, fossil, fuel, essenti, save, huma...</td>\n",
       "      <td>[776, 1131, 419, 424, 343, 930, 504, 850, 369,...</td>\n",
       "    </tr>\n",
       "    <tr>\n",
       "      <th>9</th>\n",
       "      <td>People will respect it more and be less wasteful</td>\n",
       "      <td>[people, respect, less, wasteful]</td>\n",
       "      <td>[peopl, respect, less, wast]</td>\n",
       "      <td>[766, 902, 599, 1152]</td>\n",
       "    </tr>\n",
       "    <tr>\n",
       "      <th>11</th>\n",
       "      <td>I believe putting price or tax on fossil fuels...</td>\n",
       "      <td>[believe, putting, price, tax, fossil, fuels, ...</td>\n",
       "      <td>[believ, put, price, tax, fossil, fuel, help, ...</td>\n",
       "      <td>[102, 845, 810, 1060, 419, 424, 487, 235, 368,...</td>\n",
       "    </tr>\n",
       "    <tr>\n",
       "      <th>14</th>\n",
       "      <td>As price increases, people are more open to op...</td>\n",
       "      <td>[price, increases, people, open, options, opti...</td>\n",
       "      <td>[price, increas, peopl, open, option, option, ...</td>\n",
       "      <td>[810, 534, 766, 724, 731, 731, 97, 22, 189]</td>\n",
       "    </tr>\n",
       "  </tbody>\n",
       "</table>\n",
       "</div>"
      ],
      "text/plain": [
       "                                                 po3a  \\\n",
       "6   It will get people to think about their consum...   \n",
       "7   Phasing out the use of fossil fuels is essenti...   \n",
       "9    People will respect it more and be less wasteful   \n",
       "11  I believe putting price or tax on fossil fuels...   \n",
       "14  As price increases, people are more open to op...   \n",
       "\n",
       "                                            po3aclean  \\\n",
       "6   [get, people, think, consumption, perhaps, cut...   \n",
       "7   [phasing, use, fossil, fuels, essential, save,...   \n",
       "9                   [people, respect, less, wasteful]   \n",
       "11  [believe, putting, price, tax, fossil, fuels, ...   \n",
       "14  [price, increases, people, open, options, opti...   \n",
       "\n",
       "                                      po3aclean_stems  \\\n",
       "6   [get, peopl, think, consumpt, perhap, cut, bac...   \n",
       "7   [phase, use, fossil, fuel, essenti, save, huma...   \n",
       "9                        [peopl, respect, less, wast]   \n",
       "11  [believ, put, price, tax, fossil, fuel, help, ...   \n",
       "14  [price, increas, peopl, open, option, option, ...   \n",
       "\n",
       "                              po3aclean_stems_wordvec  \n",
       "6   [438, 766, 1076, 209, 770, 239, 87, 810, 635, ...  \n",
       "7   [776, 1131, 419, 424, 343, 930, 504, 850, 369,...  \n",
       "9                               [766, 902, 599, 1152]  \n",
       "11  [102, 845, 810, 1060, 419, 424, 487, 235, 368,...  \n",
       "14        [810, 534, 766, 724, 731, 731, 97, 22, 189]  "
      ]
     },
     "execution_count": 53,
     "metadata": {},
     "output_type": "execute_result"
    }
   ],
   "source": [
    "data_df=cdf.loc[:,[carbon_tax_question,carbon_tax_question+'clean',carbon_tax_question+'clean_stems',carbon_tax_question+'clean_stems_wordvec']]\n",
    "print(len(data_df))\n",
    "data_df.head()"
   ]
  },
  {
   "cell_type": "code",
   "execution_count": 54,
   "metadata": {},
   "outputs": [
    {
     "data": {
      "image/png": "[encoded data removed]",
      "text/plain": [
       "<Figure size 1080x432 with 2 Axes>"
      ]
     },
     "metadata": {},
     "output_type": "display_data"
    }
   ],
   "source": [
    "word_counts=data_df[carbon_tax_question+'clean_stems_wordvec'].apply(pd.Series).unstack().value_counts().sort_values(ascending=False).reset_index()\n",
    "word_counts=word_counts.rename(columns={0:'word_count','index':'wordindex'})\n",
    "word_counts.wordindex=word_counts.wordindex.astype(int)\n",
    "\n",
    "fig,ax=pl.subplots(2,1,figsize=(15,6))\n",
    "\n",
    "size_counts=data_df[carbon_tax_question+'clean_stems_wordvec'].apply(len).value_counts()\n",
    "ax[0].bar(size_counts.index.values,size_counts.values)\n",
    "ax[0].set_ylabel('number of occurences')\n",
    "ax[0].set_xlabel('number of core words in response')\n",
    "\n",
    "ax[1].bar(word_counts.index.values,word_counts.word_count.values)\n",
    "ax[1].set_ylabel('number of occurences')\n",
    "ax[1].set_title('ranked prevalence of core words ('+str(len(dictionary))+' in total) from 0.6*'+str(len(df))+' (-'+str(len(french_responses))+' FR) responses')\n",
    "ax[1].set_xticks(np.arange(51))\n",
    "ax[1].set_xticklabels(list(dictionary.loc[word_counts.wordindex.values,'word'].values),rotation=45)\n",
    "ax[1].set_xlim(-0.5,50.5)\n",
    "\n",
    "fig.tight_layout()\n",
    "# fig.savefig(fig_dir+'word_prevalence.pdf',format='pdf',dpi=300,bbox_inches='tight')"
   ]
  },
  {
   "cell_type": "code",
   "execution_count": null,
   "metadata": {},
   "outputs": [],
   "source": []
  }
 ],
 "metadata": {
  "kernelspec": {
   "display_name": "Python 3 (ipykernel)",
   "language": "python",
   "name": "python3"
  },
  "language_info": {
   "codemirror_mode": {
    "name": "ipython",
    "version": 3
   },
   "file_extension": ".py",
   "mimetype": "text/x-python",
   "name": "python",
   "nbconvert_exporter": "python",
   "pygments_lexer": "ipython3",
   "version": "3.10.2"
  }
 },
 "nbformat": 4,
 "nbformat_minor": 2
}
