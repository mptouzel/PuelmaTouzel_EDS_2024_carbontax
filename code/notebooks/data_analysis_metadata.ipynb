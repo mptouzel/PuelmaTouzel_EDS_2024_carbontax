{
 "cells": [
  {
   "cell_type": "code",
   "execution_count": 1,
   "metadata": {},
   "outputs": [
    {
     "name": "stdout",
     "output_type": "stream",
     "text": [
      "/home/max/Dropbox/scripts/Projects/topicmod/STM/code\n"
     ]
    },
    {
     "data": {
      "text/html": [
       "<style>.container { width:100% !important; }</style>"
      ],
      "text/plain": [
       "<IPython.core.display.HTML object>"
      ]
     },
     "metadata": {},
     "output_type": "display_data"
    }
   ],
   "source": [
    "#load libraries and setup file\n",
    "import sys,os\n",
    "root_path = os.path.abspath(os.path.join('..'))\n",
    "print(root_path)\n",
    "if root_path not in sys.path:\n",
    "    sys.path.append(root_path)\n",
    "%run -i \"../lib/utils/ipynb_setup.py\"\n",
    "%load_ext autoreload\n",
    "%autoreload 2\n",
    "%matplotlib inline"
   ]
  },
  {
   "cell_type": "markdown",
   "metadata": {},
   "source": [
    "import data"
   ]
  },
  {
   "cell_type": "code",
   "execution_count": 2,
   "metadata": {},
   "outputs": [],
   "source": [
    "df=pd.read_stata('../../data/carbon_tax/CCOP_wave1.dta')"
   ]
  },
  {
   "cell_type": "code",
   "execution_count": 23,
   "metadata": {},
   "outputs": [
    {
     "data": {
      "text/plain": [
       "array(['responseid', 'status', 'intcode', 'interview_start',\n",
       "       'interview_end', 'temptime', 'lang', 'prov', 'd1', 'd3', 'age',\n",
       "       'qmip', 'qmip_01', 'qmip_02', 'qmip_03', 'qmip_04', 'qmip_05',\n",
       "       'qmip_06', 'qmip_07', 'qmip_08', 'qmip_09', 'qmip_10', 'qmip_11',\n",
       "       'qmip_12', 'qmip_13', 'qmip_14', 'qmip_15', 'qmip_16', 'qmip_17',\n",
       "       'qmip_18', 'qmip_19', 'qmip_20', 'qmip_21', 'qmip_22', 'qmip_96',\n",
       "       'qmip_98', 'p1', 'p2_1', 'p2_2', 'p2_3', 'p2_4', 'p2_5', 'p2_6',\n",
       "       'p2_7', 'p2_8', 'p3_1', 'p3_2', 'p3_3', 'p3_4', 'p3_5', 'p4a_1',\n",
       "       'p4a_2', 'p4a_3', 'p4a_4', 'p4a_5', 'p4b_6', 'p4b_7', 'p4b_8',\n",
       "       'p4b_9', 'p4b_10', 'p4b_11', 'pk1', 'pk2', 'e2', 'e5', 'e6', 'e7',\n",
       "       'e8', 'a1', 'a2', 'a3', 'a4', 'a5', 'po1', 'po2', 'po3a',\n",
       "       'po3a_01', 'po3a_02', 'po3a_03', 'po3a_04', 'po3a_05', 'po3a_06',\n",
       "       'po3a_07', 'po3a_08', 'po3a_09', 'po3a_10', 'po3a_11', 'po3a_12',\n",
       "       'po3a_13', 'po3a_14', 'po3a_15', 'po3a_16', 'po3a_17', 'po3a_18',\n",
       "       'po3a_19', 'po3a_96', 'po3a_97', 'po3a_98', 'po3b', 'po3b_01',\n",
       "       'po3b_02', 'po3b_03', 'po3b_04', 'po3b_05', 'po3b_06', 'po3b_07',\n",
       "       'po3b_08', 'po3b_09', 'po3b_10', 'po3b_11', 'po3b_12', 'po3b_13',\n",
       "       'po3b_14', 'po3b_15', 'po3b_16', 'po3b_17', 'po3b_18', 'po3b_96',\n",
       "       'po3b_97', 'po3b_98', 'po3c', 'po3c_01', 'po3c_02', 'po3c_03',\n",
       "       'po3c_04', 'po3c_05', 'po3c_06', 'po3c_07', 'po3c_08', 'po3c_09',\n",
       "       'po3c_10', 'po3c_11', 'po3c_12', 'po3c_13', 'po3c_14', 'po3c_15',\n",
       "       'po3c_16', 'po3c_17', 'po3c_18', 'po3c_96', 'po3c_98', 'po7a',\n",
       "       'po7b', 'po9', 'po10_1', 'po10_2', 'po10_3', 'po10_4', 'po10_5',\n",
       "       'po10_6', 'po10_7', 'po10_8', 'po11_1', 'po11_2', 'po11_3',\n",
       "       'po11_4', 'po12_1', 'po12_2', 'po12_3', 'po12_4', 'po13_1',\n",
       "       'po13_2', 'po13_3', 'po13_4', 'po18', 'po22_96_other', 'po22_1',\n",
       "       'po22_2', 'po22_3', 'po22_4', 'po22_5', 'po22_96', 'po22_98',\n",
       "       'po23_96_other', 'po23_1', 'po23_2', 'po23_3', 'po23_4', 'po23_5',\n",
       "       'po23_6', 'po23_96', 'po23_97', 'po23_98', 'p24', 'p25', 'b1_1',\n",
       "       'b1_2', 'b1_3', 'b1_4', 'b1_5', 'b1_96', 'b1_97', 'b1_96_other',\n",
       "       'b2_1', 'b2_2', 'b2_3', 'b2_4', 'b2_5', 'b2_96', 'b2_97',\n",
       "       'b2_96_other', 't1', 't2', 't2b', 't3', 't4', 't5', 'v1', 'v2_1',\n",
       "       'v2_2', 'v2_3', 'v2_4', 'v2_5', 'v2_6', 'v2_99', 'v3', 'v4_1',\n",
       "       'v4_2', 'v4_none', 'v5_1', 'v5_2', 'v5_none', 'd2_96_other',\n",
       "       'd2_1', 'd2_2', 'd2_96', 'd4', 'd5', 'd6', 'd7', 'd8', 'd10',\n",
       "       'd11', 'd12', 'd13', 'd14', 'immig', 'kids', 'Weight'],\n",
       "      dtype=object)"
      ]
     },
     "execution_count": 23,
     "metadata": {},
     "output_type": "execute_result"
    }
   ],
   "source": [
    "df.columns.values"
   ]
  },
  {
   "cell_type": "code",
   "execution_count": 4,
   "metadata": {
    "scrolled": false
   },
   "outputs": [
    {
     "data": {
      "text/html": [
       "<div>\n",
       "<style scoped>\n",
       "    .dataframe tbody tr th:only-of-type {\n",
       "        vertical-align: middle;\n",
       "    }\n",
       "\n",
       "    .dataframe tbody tr th {\n",
       "        vertical-align: top;\n",
       "    }\n",
       "\n",
       "    .dataframe thead th {\n",
       "        text-align: right;\n",
       "    }\n",
       "</style>\n",
       "<table border=\"1\" class=\"dataframe\">\n",
       "  <thead>\n",
       "    <tr style=\"text-align: right;\">\n",
       "      <th></th>\n",
       "      <th>responseid</th>\n",
       "      <th>status</th>\n",
       "      <th>intcode</th>\n",
       "      <th>interview_start</th>\n",
       "      <th>interview_end</th>\n",
       "      <th>temptime</th>\n",
       "      <th>lang</th>\n",
       "      <th>prov</th>\n",
       "      <th>d1</th>\n",
       "      <th>d3</th>\n",
       "      <th>...</th>\n",
       "      <th>d7</th>\n",
       "      <th>d8</th>\n",
       "      <th>d10</th>\n",
       "      <th>d11</th>\n",
       "      <th>d12</th>\n",
       "      <th>d13</th>\n",
       "      <th>d14</th>\n",
       "      <th>immig</th>\n",
       "      <th>kids</th>\n",
       "      <th>Weight</th>\n",
       "    </tr>\n",
       "  </thead>\n",
       "  <tbody>\n",
       "    <tr>\n",
       "      <th>0</th>\n",
       "      <td>27</td>\n",
       "      <td>complete</td>\n",
       "      <td>C1</td>\n",
       "      <td>2019-02-22 11:27:04</td>\n",
       "      <td>2019-02-22 11:54:52</td>\n",
       "      <td>1665</td>\n",
       "      <td>EN</td>\n",
       "      <td>ON</td>\n",
       "      <td>Male</td>\n",
       "      <td>63</td>\n",
       "      <td>...</td>\n",
       "      <td>0</td>\n",
       "      <td>2</td>\n",
       "      <td>Within a suburb, adjacent to a large city</td>\n",
       "      <td>8</td>\n",
       "      <td>College / CEGEP graduate</td>\n",
       "      <td>This doesn't apply to me</td>\n",
       "      <td>$40,000-$59,999</td>\n",
       "      <td>No, Born in Canada</td>\n",
       "      <td>No</td>\n",
       "      <td>2.389879</td>\n",
       "    </tr>\n",
       "    <tr>\n",
       "      <th>1</th>\n",
       "      <td>28</td>\n",
       "      <td>complete</td>\n",
       "      <td>C1</td>\n",
       "      <td>2019-02-22 11:27:07</td>\n",
       "      <td>2019-02-22 11:35:38</td>\n",
       "      <td>508</td>\n",
       "      <td>EN</td>\n",
       "      <td>ON</td>\n",
       "      <td>Male</td>\n",
       "      <td>31</td>\n",
       "      <td>...</td>\n",
       "      <td>2</td>\n",
       "      <td>2</td>\n",
       "      <td>Within a suburb, adjacent to a large city</td>\n",
       "      <td>8</td>\n",
       "      <td>Post-graduate university degree</td>\n",
       "      <td>Drive alone</td>\n",
       "      <td>$200,000 or more</td>\n",
       "      <td>No, Born in Canada</td>\n",
       "      <td>Yes</td>\n",
       "      <td>1.722694</td>\n",
       "    </tr>\n",
       "    <tr>\n",
       "      <th>2</th>\n",
       "      <td>29</td>\n",
       "      <td>complete</td>\n",
       "      <td>C1</td>\n",
       "      <td>2019-02-22 11:30:30</td>\n",
       "      <td>2019-02-22 11:44:23</td>\n",
       "      <td>831</td>\n",
       "      <td>EN</td>\n",
       "      <td>SK</td>\n",
       "      <td>Female</td>\n",
       "      <td>49</td>\n",
       "      <td>...</td>\n",
       "      <td>1</td>\n",
       "      <td>1</td>\n",
       "      <td>Within a large city</td>\n",
       "      <td>Centre5</td>\n",
       "      <td>College / CEGEP graduate</td>\n",
       "      <td>Drive alone</td>\n",
       "      <td>$40,000-$59,999</td>\n",
       "      <td>No, Born in Canada</td>\n",
       "      <td>Yes</td>\n",
       "      <td>0.166414</td>\n",
       "    </tr>\n",
       "    <tr>\n",
       "      <th>3</th>\n",
       "      <td>30</td>\n",
       "      <td>complete</td>\n",
       "      <td>C1</td>\n",
       "      <td>2019-02-22 11:31:25</td>\n",
       "      <td>2019-02-22 11:37:52</td>\n",
       "      <td>385</td>\n",
       "      <td>EN</td>\n",
       "      <td>AB</td>\n",
       "      <td>Male</td>\n",
       "      <td>28</td>\n",
       "      <td>...</td>\n",
       "      <td>0</td>\n",
       "      <td>1</td>\n",
       "      <td>Within a large city</td>\n",
       "      <td>Centre5</td>\n",
       "      <td>Less than college/some CEGEP</td>\n",
       "      <td>Transit</td>\n",
       "      <td>Under $20,000</td>\n",
       "      <td>Yes, Not born in Canada</td>\n",
       "      <td>No</td>\n",
       "      <td>1.014922</td>\n",
       "    </tr>\n",
       "    <tr>\n",
       "      <th>4</th>\n",
       "      <td>31</td>\n",
       "      <td>complete</td>\n",
       "      <td>C1</td>\n",
       "      <td>2019-02-22 11:32:31</td>\n",
       "      <td>2019-02-22 11:49:40</td>\n",
       "      <td>1027</td>\n",
       "      <td>EN</td>\n",
       "      <td>AB</td>\n",
       "      <td>Male</td>\n",
       "      <td>31</td>\n",
       "      <td>...</td>\n",
       "      <td>0</td>\n",
       "      <td>1</td>\n",
       "      <td>In a small town</td>\n",
       "      <td>7</td>\n",
       "      <td>Undergraduate university degree</td>\n",
       "      <td>Drive alone</td>\n",
       "      <td>$40,000-$59,999</td>\n",
       "      <td>No, Born in Canada</td>\n",
       "      <td>No</td>\n",
       "      <td>0.671907</td>\n",
       "    </tr>\n",
       "  </tbody>\n",
       "</table>\n",
       "<p>5 rows × 239 columns</p>\n",
       "</div>"
      ],
      "text/plain": [
       "   responseid    status intcode     interview_start       interview_end  \\\n",
       "0          27  complete      C1 2019-02-22 11:27:04 2019-02-22 11:54:52   \n",
       "1          28  complete      C1 2019-02-22 11:27:07 2019-02-22 11:35:38   \n",
       "2          29  complete      C1 2019-02-22 11:30:30 2019-02-22 11:44:23   \n",
       "3          30  complete      C1 2019-02-22 11:31:25 2019-02-22 11:37:52   \n",
       "4          31  complete      C1 2019-02-22 11:32:31 2019-02-22 11:49:40   \n",
       "\n",
       "   temptime lang prov      d1  d3  ... d7 d8  \\\n",
       "0      1665   EN   ON    Male  63  ...  0  2   \n",
       "1       508   EN   ON    Male  31  ...  2  2   \n",
       "2       831   EN   SK  Female  49  ...  1  1   \n",
       "3       385   EN   AB    Male  28  ...  0  1   \n",
       "4      1027   EN   AB    Male  31  ...  0  1   \n",
       "\n",
       "                                         d10      d11  \\\n",
       "0  Within a suburb, adjacent to a large city        8   \n",
       "1  Within a suburb, adjacent to a large city        8   \n",
       "2                        Within a large city  Centre5   \n",
       "3                        Within a large city  Centre5   \n",
       "4                            In a small town        7   \n",
       "\n",
       "                               d12                       d13  \\\n",
       "0         College / CEGEP graduate  This doesn't apply to me   \n",
       "1  Post-graduate university degree               Drive alone   \n",
       "2         College / CEGEP graduate               Drive alone   \n",
       "3     Less than college/some CEGEP                   Transit   \n",
       "4  Undergraduate university degree               Drive alone   \n",
       "\n",
       "                d14                    immig kids    Weight  \n",
       "0   $40,000-$59,999       No, Born in Canada   No  2.389879  \n",
       "1  $200,000 or more       No, Born in Canada  Yes  1.722694  \n",
       "2   $40,000-$59,999       No, Born in Canada  Yes  0.166414  \n",
       "3     Under $20,000  Yes, Not born in Canada   No  1.014922  \n",
       "4   $40,000-$59,999       No, Born in Canada   No  0.671907  \n",
       "\n",
       "[5 rows x 239 columns]"
      ]
     },
     "execution_count": 4,
     "metadata": {},
     "output_type": "execute_result"
    }
   ],
   "source": [
    "df.head()"
   ]
  },
  {
   "cell_type": "code",
   "execution_count": 5,
   "metadata": {},
   "outputs": [
    {
     "data": {
      "text/plain": [
       "EN    2755\n",
       "FR     558\n",
       "Name: lang, dtype: int64"
      ]
     },
     "execution_count": 5,
     "metadata": {},
     "output_type": "execute_result"
    }
   ],
   "source": [
    "df.lang.value_counts()"
   ]
  },
  {
   "cell_type": "code",
   "execution_count": 6,
   "metadata": {},
   "outputs": [
    {
     "data": {
      "text/plain": [
       "SK    668\n",
       "AB    663\n",
       "BC    661\n",
       "QC    661\n",
       "ON    660\n",
       "Name: prov, dtype: int64"
      ]
     },
     "execution_count": 6,
     "metadata": {},
     "output_type": "execute_result"
    }
   ],
   "source": [
    "df.prov.value_counts()"
   ]
  },
  {
   "cell_type": "code",
   "execution_count": 7,
   "metadata": {
    "scrolled": false
   },
   "outputs": [
    {
     "data": {
      "text/plain": [
       "Female    1690\n",
       "Male      1615\n",
       "Other        8\n",
       "Name: d1, dtype: int64"
      ]
     },
     "execution_count": 7,
     "metadata": {},
     "output_type": "execute_result"
    }
   ],
   "source": [
    "df.d1.value_counts()"
   ]
  },
  {
   "cell_type": "markdown",
   "metadata": {},
   "source": [
    "age"
   ]
  },
  {
   "cell_type": "code",
   "execution_count": 8,
   "metadata": {
    "scrolled": true
   },
   "outputs": [
    {
     "data": {
      "text/plain": [
       "18              57\n",
       "19              55\n",
       "20              54\n",
       "21              49\n",
       "22              60\n",
       "                ..\n",
       "88               1\n",
       "89               2\n",
       "90               2\n",
       "96               1\n",
       "100 or older     1\n",
       "Name: d3, Length: 75, dtype: int64"
      ]
     },
     "execution_count": 8,
     "metadata": {},
     "output_type": "execute_result"
    }
   ],
   "source": [
    "df.d3.value_counts().sort_index()"
   ]
  },
  {
   "cell_type": "markdown",
   "metadata": {},
   "source": [
    "years as resident of canada"
   ]
  },
  {
   "cell_type": "code",
   "execution_count": 9,
   "metadata": {},
   "outputs": [
    {
     "data": {
      "text/plain": [
       "['63', '31', '49', '21', '25', ..., '87', '82', '89', '88', '96']\n",
       "Length: 93\n",
       "Categories (93, object): ['Less than 1 year' < '1' < '2' < '3' ... '89' < '90' < '96' < '100 years or more']"
      ]
     },
     "execution_count": 9,
     "metadata": {},
     "output_type": "execute_result"
    }
   ],
   "source": [
    "df.d4.unique()"
   ]
  },
  {
   "cell_type": "markdown",
   "metadata": {},
   "source": [
    "own home"
   ]
  },
  {
   "cell_type": "code",
   "execution_count": 10,
   "metadata": {
    "scrolled": true
   },
   "outputs": [
    {
     "data": {
      "text/plain": [
       "Own      2202\n",
       "Rent     1037\n",
       "Other      74\n",
       "Name: d5, dtype: int64"
      ]
     },
     "execution_count": 10,
     "metadata": {},
     "output_type": "execute_result"
    }
   ],
   "source": [
    "df.d5.value_counts()"
   ]
  },
  {
   "cell_type": "markdown",
   "metadata": {},
   "source": [
    "partner"
   ]
  },
  {
   "cell_type": "code",
   "execution_count": 11,
   "metadata": {
    "scrolled": true
   },
   "outputs": [
    {
     "data": {
      "text/plain": [
       "Yes    1996\n",
       "No     1317\n",
       "Name: d6, dtype: int64"
      ]
     },
     "execution_count": 11,
     "metadata": {},
     "output_type": "execute_result"
    }
   ],
   "source": [
    "df.d6.value_counts()"
   ]
  },
  {
   "cell_type": "markdown",
   "metadata": {},
   "source": [
    "children"
   ]
  },
  {
   "cell_type": "code",
   "execution_count": 12,
   "metadata": {
    "scrolled": false
   },
   "outputs": [
    {
     "data": {
      "text/plain": [
       "0            2365\n",
       "1             412\n",
       "2             386\n",
       "3             104\n",
       "4              32\n",
       "5              10\n",
       "7 or more       2\n",
       "6               2\n",
       "Name: d7, dtype: int64"
      ]
     },
     "execution_count": 12,
     "metadata": {},
     "output_type": "execute_result"
    }
   ],
   "source": [
    "df.d7.value_counts() "
   ]
  },
  {
   "cell_type": "code",
   "execution_count": 13,
   "metadata": {},
   "outputs": [
    {
     "data": {
      "text/plain": [
       "No     2365\n",
       "Yes     948\n",
       "Name: kids, dtype: int64"
      ]
     },
     "execution_count": 13,
     "metadata": {},
     "output_type": "execute_result"
    }
   ],
   "source": [
    "df.kids.value_counts()"
   ]
  },
  {
   "cell_type": "markdown",
   "metadata": {},
   "source": [
    "vehicles"
   ]
  },
  {
   "cell_type": "code",
   "execution_count": 14,
   "metadata": {
    "scrolled": true
   },
   "outputs": [
    {
     "data": {
      "text/plain": [
       "1            1360\n",
       "2            1197\n",
       "0             343\n",
       "3             296\n",
       "4              72\n",
       "5 or more      45\n",
       "Name: d8, dtype: int64"
      ]
     },
     "execution_count": 14,
     "metadata": {},
     "output_type": "execute_result"
    }
   ],
   "source": [
    "df.d8.value_counts()"
   ]
  },
  {
   "cell_type": "markdown",
   "metadata": {},
   "source": [
    "community"
   ]
  },
  {
   "cell_type": "code",
   "execution_count": 15,
   "metadata": {
    "scrolled": true
   },
   "outputs": [
    {
     "data": {
      "text/plain": [
       "Within a large city                          1288\n",
       "Within a suburb, adjacent to a large city     681\n",
       "In a smaller, regional city                   643\n",
       "In a small town                               362\n",
       "In a rural area                               301\n",
       "In a remote area                               21\n",
       "Not sure                                       17\n",
       "Name: d10, dtype: int64"
      ]
     },
     "execution_count": 15,
     "metadata": {},
     "output_type": "execute_result"
    }
   ],
   "source": [
    "df.d10.value_counts()"
   ]
  },
  {
   "cell_type": "markdown",
   "metadata": {},
   "source": [
    "politics"
   ]
  },
  {
   "cell_type": "code",
   "execution_count": 16,
   "metadata": {
    "scrolled": true
   },
   "outputs": [
    {
     "data": {
      "text/plain": [
       "Centre5               1090\n",
       "Not sure               539\n",
       "7                      270\n",
       "4                      260\n",
       "3                      256\n",
       "6                      234\n",
       "8                      197\n",
       "2                      152\n",
       "9                       93\n",
       "Far to the right10      91\n",
       "1                       73\n",
       "Far to the left0        58\n",
       "Name: d11, dtype: int64"
      ]
     },
     "execution_count": 16,
     "metadata": {},
     "output_type": "execute_result"
    }
   ],
   "source": [
    "df.d11.value_counts()"
   ]
  },
  {
   "cell_type": "markdown",
   "metadata": {},
   "source": [
    "education"
   ]
  },
  {
   "cell_type": "code",
   "execution_count": 17,
   "metadata": {
    "scrolled": true
   },
   "outputs": [
    {
     "data": {
      "text/plain": [
       "Undergraduate university degree    817\n",
       "College / CEGEP graduate           735\n",
       "High school graduate               588\n",
       "Some university                    342\n",
       "Post-graduate university degree    337\n",
       "Less than college/some CEGEP       221\n",
       "Apprenticeship                     155\n",
       "Less than high school              118\n",
       "Name: d12, dtype: int64"
      ]
     },
     "execution_count": 17,
     "metadata": {},
     "output_type": "execute_result"
    }
   ],
   "source": [
    "df.d12.value_counts()"
   ]
  },
  {
   "cell_type": "markdown",
   "metadata": {},
   "source": [
    "transportation"
   ]
  },
  {
   "cell_type": "code",
   "execution_count": 18,
   "metadata": {
    "scrolled": true
   },
   "outputs": [
    {
     "data": {
      "text/plain": [
       "Drive alone                     1295\n",
       "This doesn't apply to me         917\n",
       "Transit                          486\n",
       "Drive with others or carpool     236\n",
       "Walk                             209\n",
       "Work/study at home               134\n",
       "Cycle                             36\n",
       "Name: d13, dtype: int64"
      ]
     },
     "execution_count": 18,
     "metadata": {},
     "output_type": "execute_result"
    }
   ],
   "source": [
    "df.d13.value_counts()"
   ]
  },
  {
   "cell_type": "markdown",
   "metadata": {},
   "source": [
    "income"
   ]
  },
  {
   "cell_type": "code",
   "execution_count": 19,
   "metadata": {
    "scrolled": true
   },
   "outputs": [
    {
     "data": {
      "text/plain": [
       "$40,000-$59,999         516\n",
       "$80,000-$99,999         464\n",
       "$20,000-$39,999         442\n",
       "$60,000-$79,999         439\n",
       "Prefer not to answer    401\n",
       "$100,000-$119,999       296\n",
       "Under $20,000           273\n",
       "$120,000-$159, 999      272\n",
       "$200,000 or more        107\n",
       "$160,000-$199,999       103\n",
       "Name: d14, dtype: int64"
      ]
     },
     "execution_count": 19,
     "metadata": {},
     "output_type": "execute_result"
    }
   ],
   "source": [
    "df.d14.value_counts()"
   ]
  },
  {
   "cell_type": "markdown",
   "metadata": {},
   "source": [
    "postal code"
   ]
  },
  {
   "cell_type": "markdown",
   "metadata": {},
   "source": [
    "immigration"
   ]
  },
  {
   "cell_type": "code",
   "execution_count": 20,
   "metadata": {
    "scrolled": true
   },
   "outputs": [
    {
     "data": {
      "text/plain": [
       "No, Born in Canada         2527\n",
       "Yes, Not born in Canada     786\n",
       "Name: immig, dtype: int64"
      ]
     },
     "execution_count": 20,
     "metadata": {},
     "output_type": "execute_result"
    }
   ],
   "source": [
    "df.immig.value_counts()"
   ]
  },
  {
   "cell_type": "markdown",
   "metadata": {},
   "source": [
    "weight"
   ]
  },
  {
   "cell_type": "code",
   "execution_count": 25,
   "metadata": {},
   "outputs": [
    {
     "data": {
      "text/plain": [
       "0.147662    56\n",
       "0.206292    51\n",
       "1.490301    48\n",
       "0.146817    47\n",
       "0.536984    46\n",
       "            ..\n",
       "2.042248     3\n",
       "0.735447     3\n",
       "1.352021     2\n",
       "0.873578     2\n",
       "0.992311     1\n",
       "Name: Weight, Length: 144, dtype: int64"
      ]
     },
     "execution_count": 25,
     "metadata": {},
     "output_type": "execute_result"
    }
   ],
   "source": [
    "df.Weight.value_counts()"
   ]
  }
 ],
 "metadata": {
  "kernelspec": {
   "display_name": "Python 3",
   "language": "python",
   "name": "python3"
  },
  "language_info": {
   "codemirror_mode": {
    "name": "ipython",
    "version": 3
   },
   "file_extension": ".py",
   "mimetype": "text/x-python",
   "name": "python",
   "nbconvert_exporter": "python",
   "pygments_lexer": "ipython3",
   "version": "3.7.3"
  }
 },
 "nbformat": 4,
 "nbformat_minor": 2
}
